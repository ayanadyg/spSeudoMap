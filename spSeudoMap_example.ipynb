{
 "cells": [
  {
   "cell_type": "markdown",
   "id": "edc93757-530e-4d5c-aff1-797616cf6712",
   "metadata": {
    "tags": []
   },
   "source": [
    "# spSeudoMap implementation"
   ]
  },
  {
   "cell_type": "markdown",
   "id": "0f67acb1-905f-47bd-8d1c-4f3b320e73c6",
   "metadata": {
    "tags": []
   },
   "source": [
    "## Install conda environment"
   ]
  },
  {
   "cell_type": "code",
   "execution_count": 1,
   "id": "643f1d6a-b4de-4df0-837a-46b8e0743d7e",
   "metadata": {},
   "outputs": [
    {
     "name": "stdout",
     "output_type": "stream",
     "text": [
      "Collecting package metadata (repodata.json): done\n",
      "Solving environment: done\n",
      "\n",
      "\n",
      "==> WARNING: A newer version of conda exists. <==\n",
      "  current version: 4.11.0\n",
      "  latest version: 4.12.0\n",
      "\n",
      "Please update conda by running\n",
      "\n",
      "    $ conda update -n base conda\n",
      "\n",
      "\n",
      "\n",
      "Downloading and Extracting Packages\n",
      "libevent-2.1.10      | 1.1 MB    | ##################################### | 100% \n",
      "libpq-14.2           | 3.0 MB    | ##################################### | 100% \n",
      "mysql-common-8.0.29  | 1.8 MB    | ##################################### | 100% \n",
      "mysql-libs-8.0.29    | 1.9 MB    | ##################################### | 100% \n",
      "Preparing transaction: done\n",
      "Verifying transaction: done\n",
      "Executing transaction: | Enabling notebook extension jupyter-js-widgets/extension...\n",
      "      - Validating: \u001b[32mOK\u001b[0m\n",
      "\n",
      "done\n",
      "#\n",
      "# To activate this environment, use\n",
      "#\n",
      "#     $ conda activate txt\n",
      "#\n",
      "# To deactivate an active environment, use\n",
      "#\n",
      "#     $ conda deactivate\n",
      "\n",
      "\n",
      "Note: you may need to restart the kernel to use updated packages.\n"
     ]
    }
   ],
   "source": [
    "%conda env create --file conda_env.yaml"
   ]
  },
  {
   "cell_type": "code",
   "execution_count": null,
   "id": "2e5ad6d2-db3c-47e4-851c-6651839bd243",
   "metadata": {},
   "outputs": [],
   "source": [
    "# Install kernel space\n",
    "!python -m ipykernel install --user --name spSeudoMap --display-name spSeudoMap"
   ]
  },
  {
   "cell_type": "markdown",
   "id": "d7969de9-7a8c-4eb4-9426-4b1e035f26e8",
   "metadata": {},
   "source": [
    "## Load single-cell and spatial data"
   ]
  },
  {
   "cell_type": "code",
   "execution_count": 1,
   "id": "fe302309-3d00-42ce-aad9-fe22e1effab4",
   "metadata": {},
   "outputs": [],
   "source": [
    "import os\n",
    "\n",
    "os.environ[\"CUDA_DEVICE_ORDER\"] = \"PCI_BUS_ID\"\n",
    "os.environ[\"CUDA_VISIBLE_DEVICES\"]=\"0\" # run on GPU\n",
    "#run on CPU: os.environ[\"CUDA_VISIBLE_DEVICES\"]=\"-1\"\n",
    "\n",
    "import scanpy as sc\n",
    "import pandas as pd\n",
    "import numpy as np\n",
    "import seaborn as sns"
   ]
  },
  {
   "cell_type": "markdown",
   "id": "925d9cee-fd56-469d-99a2-714a9aaac677",
   "metadata": {
    "tags": []
   },
   "source": [
    "## Load example spatial data (10X Genomics Breast Cancer Block A Section 1)"
   ]
  },
  {
   "cell_type": "code",
   "execution_count": 2,
   "id": "2b1381fa-e42c-493e-9ea3-fdb8da5a5cf9",
   "metadata": {},
   "outputs": [
    {
     "data": {
      "application/vnd.jupyter.widget-view+json": {
       "model_id": "e94e737372a34b4a9174564ce0792c52",
       "version_major": 2,
       "version_minor": 0
      },
      "text/plain": [
       "V1_Adult_Mouse_Brain_Coronal_Section_1_spatial.tar.gz: 0.00B [00:00, ?B/s]"
      ]
     },
     "metadata": {},
     "output_type": "display_data"
    },
    {
     "ename": "HTTPError",
     "evalue": "HTTP Error 403: Forbidden",
     "output_type": "error",
     "traceback": [
      "\u001b[0;31m---------------------------------------------------------------------------\u001b[0m",
      "\u001b[0;31mHTTPError\u001b[0m                                 Traceback (most recent call last)",
      "\u001b[0;32m/tmp/ipykernel_69618/390062268.py\u001b[0m in \u001b[0;36m<module>\u001b[0;34m\u001b[0m\n\u001b[1;32m      3\u001b[0m \u001b[0;34m\u001b[0m\u001b[0m\n\u001b[1;32m      4\u001b[0m adata_spatial = sc.datasets.visium_sge(\n\u001b[0;32m----> 5\u001b[0;31m     \u001b[0msample_id\u001b[0m\u001b[0;34m=\u001b[0m\u001b[0;34m\"V1_Adult_Mouse_Brain_Coronal_Section_1\"\u001b[0m\u001b[0;34m\u001b[0m\u001b[0;34m\u001b[0m\u001b[0m\n\u001b[0m\u001b[1;32m      6\u001b[0m )\n",
      "\u001b[0;32m~/anaconda3/envs/spSeudoMap/lib/python3.7/site-packages/scanpy/datasets/_datasets.py\u001b[0m in \u001b[0;36mvisium_sge\u001b[0;34m(sample_id)\u001b[0m\n\u001b[1;32m    365\u001b[0m     \u001b[0mAnnotated\u001b[0m \u001b[0mdata\u001b[0m \u001b[0mmatrix\u001b[0m\u001b[0;34m.\u001b[0m\u001b[0;34m\u001b[0m\u001b[0;34m\u001b[0m\u001b[0m\n\u001b[1;32m    366\u001b[0m     \"\"\"\n\u001b[0;32m--> 367\u001b[0;31m     \u001b[0m_download_visium_dataset\u001b[0m\u001b[0;34m(\u001b[0m\u001b[0msample_id\u001b[0m\u001b[0;34m)\u001b[0m\u001b[0;34m\u001b[0m\u001b[0;34m\u001b[0m\u001b[0m\n\u001b[0m\u001b[1;32m    368\u001b[0m     \u001b[0;32mreturn\u001b[0m \u001b[0mread_visium\u001b[0m\u001b[0;34m(\u001b[0m\u001b[0msettings\u001b[0m\u001b[0;34m.\u001b[0m\u001b[0mdatasetdir\u001b[0m \u001b[0;34m/\u001b[0m \u001b[0msample_id\u001b[0m\u001b[0;34m)\u001b[0m\u001b[0;34m\u001b[0m\u001b[0;34m\u001b[0m\u001b[0m\n",
      "\u001b[0;32m~/anaconda3/envs/spSeudoMap/lib/python3.7/site-packages/scanpy/datasets/_datasets.py\u001b[0m in \u001b[0;36m_download_visium_dataset\u001b[0;34m(sample_id, base_dir)\u001b[0m\n\u001b[1;32m    324\u001b[0m     \u001b[0mtar_pth\u001b[0m \u001b[0;34m=\u001b[0m \u001b[0msample_dir\u001b[0m \u001b[0;34m/\u001b[0m \u001b[0mtar_filename\u001b[0m\u001b[0;34m\u001b[0m\u001b[0;34m\u001b[0m\u001b[0m\n\u001b[1;32m    325\u001b[0m     _utils.check_presence_download(\n\u001b[0;32m--> 326\u001b[0;31m         \u001b[0mfilename\u001b[0m\u001b[0;34m=\u001b[0m\u001b[0mtar_pth\u001b[0m\u001b[0;34m,\u001b[0m \u001b[0mbackup_url\u001b[0m\u001b[0;34m=\u001b[0m\u001b[0murl_prefix\u001b[0m \u001b[0;34m+\u001b[0m \u001b[0mtar_filename\u001b[0m\u001b[0;34m\u001b[0m\u001b[0;34m\u001b[0m\u001b[0m\n\u001b[0m\u001b[1;32m    327\u001b[0m     )\n\u001b[1;32m    328\u001b[0m     \u001b[0;32mwith\u001b[0m \u001b[0mtarfile\u001b[0m\u001b[0;34m.\u001b[0m\u001b[0mopen\u001b[0m\u001b[0;34m(\u001b[0m\u001b[0mtar_pth\u001b[0m\u001b[0;34m)\u001b[0m \u001b[0;32mas\u001b[0m \u001b[0mf\u001b[0m\u001b[0;34m:\u001b[0m\u001b[0;34m\u001b[0m\u001b[0;34m\u001b[0m\u001b[0m\n",
      "\u001b[0;32m~/anaconda3/envs/spSeudoMap/lib/python3.7/site-packages/scanpy/_utils.py\u001b[0m in \u001b[0;36mcheck_presence_download\u001b[0;34m(filename, backup_url)\u001b[0m\n\u001b[1;32m    602\u001b[0m         \u001b[0;32mfrom\u001b[0m \u001b[0;34m.\u001b[0m\u001b[0mreadwrite\u001b[0m \u001b[0;32mimport\u001b[0m \u001b[0m_download\u001b[0m\u001b[0;34m\u001b[0m\u001b[0;34m\u001b[0m\u001b[0m\n\u001b[1;32m    603\u001b[0m \u001b[0;34m\u001b[0m\u001b[0m\n\u001b[0;32m--> 604\u001b[0;31m         \u001b[0m_download\u001b[0m\u001b[0;34m(\u001b[0m\u001b[0mbackup_url\u001b[0m\u001b[0;34m,\u001b[0m \u001b[0mfilename\u001b[0m\u001b[0;34m)\u001b[0m\u001b[0;34m\u001b[0m\u001b[0;34m\u001b[0m\u001b[0m\n\u001b[0m\u001b[1;32m    605\u001b[0m \u001b[0;34m\u001b[0m\u001b[0m\n\u001b[1;32m    606\u001b[0m \u001b[0;34m\u001b[0m\u001b[0m\n",
      "\u001b[0;32m~/anaconda3/envs/spSeudoMap/lib/python3.7/site-packages/scanpy/readwrite.py\u001b[0m in \u001b[0;36m_download\u001b[0;34m(url, path)\u001b[0m\n\u001b[1;32m    903\u001b[0m \u001b[0;34m\u001b[0m\u001b[0m\n\u001b[1;32m    904\u001b[0m         \u001b[0;32mtry\u001b[0m\u001b[0;34m:\u001b[0m\u001b[0;34m\u001b[0m\u001b[0;34m\u001b[0m\u001b[0m\n\u001b[0;32m--> 905\u001b[0;31m             \u001b[0murlretrieve\u001b[0m\u001b[0;34m(\u001b[0m\u001b[0murl\u001b[0m\u001b[0;34m,\u001b[0m \u001b[0mstr\u001b[0m\u001b[0;34m(\u001b[0m\u001b[0mpath\u001b[0m\u001b[0;34m)\u001b[0m\u001b[0;34m,\u001b[0m \u001b[0mreporthook\u001b[0m\u001b[0;34m=\u001b[0m\u001b[0mupdate_to\u001b[0m\u001b[0;34m)\u001b[0m\u001b[0;34m\u001b[0m\u001b[0;34m\u001b[0m\u001b[0m\n\u001b[0m\u001b[1;32m    906\u001b[0m         \u001b[0;32mexcept\u001b[0m \u001b[0mException\u001b[0m\u001b[0;34m:\u001b[0m\u001b[0;34m\u001b[0m\u001b[0;34m\u001b[0m\u001b[0m\n\u001b[1;32m    907\u001b[0m             \u001b[0;31m# Make sure file doesn’t exist half-downloaded\u001b[0m\u001b[0;34m\u001b[0m\u001b[0;34m\u001b[0m\u001b[0;34m\u001b[0m\u001b[0m\n",
      "\u001b[0;32m~/anaconda3/envs/spSeudoMap/lib/python3.7/urllib/request.py\u001b[0m in \u001b[0;36murlretrieve\u001b[0;34m(url, filename, reporthook, data)\u001b[0m\n\u001b[1;32m    245\u001b[0m     \u001b[0murl_type\u001b[0m\u001b[0;34m,\u001b[0m \u001b[0mpath\u001b[0m \u001b[0;34m=\u001b[0m \u001b[0msplittype\u001b[0m\u001b[0;34m(\u001b[0m\u001b[0murl\u001b[0m\u001b[0;34m)\u001b[0m\u001b[0;34m\u001b[0m\u001b[0;34m\u001b[0m\u001b[0m\n\u001b[1;32m    246\u001b[0m \u001b[0;34m\u001b[0m\u001b[0m\n\u001b[0;32m--> 247\u001b[0;31m     \u001b[0;32mwith\u001b[0m \u001b[0mcontextlib\u001b[0m\u001b[0;34m.\u001b[0m\u001b[0mclosing\u001b[0m\u001b[0;34m(\u001b[0m\u001b[0murlopen\u001b[0m\u001b[0;34m(\u001b[0m\u001b[0murl\u001b[0m\u001b[0;34m,\u001b[0m \u001b[0mdata\u001b[0m\u001b[0;34m)\u001b[0m\u001b[0;34m)\u001b[0m \u001b[0;32mas\u001b[0m \u001b[0mfp\u001b[0m\u001b[0;34m:\u001b[0m\u001b[0;34m\u001b[0m\u001b[0;34m\u001b[0m\u001b[0m\n\u001b[0m\u001b[1;32m    248\u001b[0m         \u001b[0mheaders\u001b[0m \u001b[0;34m=\u001b[0m \u001b[0mfp\u001b[0m\u001b[0;34m.\u001b[0m\u001b[0minfo\u001b[0m\u001b[0;34m(\u001b[0m\u001b[0;34m)\u001b[0m\u001b[0;34m\u001b[0m\u001b[0;34m\u001b[0m\u001b[0m\n\u001b[1;32m    249\u001b[0m \u001b[0;34m\u001b[0m\u001b[0m\n",
      "\u001b[0;32m~/anaconda3/envs/spSeudoMap/lib/python3.7/urllib/request.py\u001b[0m in \u001b[0;36murlopen\u001b[0;34m(url, data, timeout, cafile, capath, cadefault, context)\u001b[0m\n\u001b[1;32m    220\u001b[0m     \u001b[0;32melse\u001b[0m\u001b[0;34m:\u001b[0m\u001b[0;34m\u001b[0m\u001b[0;34m\u001b[0m\u001b[0m\n\u001b[1;32m    221\u001b[0m         \u001b[0mopener\u001b[0m \u001b[0;34m=\u001b[0m \u001b[0m_opener\u001b[0m\u001b[0;34m\u001b[0m\u001b[0;34m\u001b[0m\u001b[0m\n\u001b[0;32m--> 222\u001b[0;31m     \u001b[0;32mreturn\u001b[0m \u001b[0mopener\u001b[0m\u001b[0;34m.\u001b[0m\u001b[0mopen\u001b[0m\u001b[0;34m(\u001b[0m\u001b[0murl\u001b[0m\u001b[0;34m,\u001b[0m \u001b[0mdata\u001b[0m\u001b[0;34m,\u001b[0m \u001b[0mtimeout\u001b[0m\u001b[0;34m)\u001b[0m\u001b[0;34m\u001b[0m\u001b[0;34m\u001b[0m\u001b[0m\n\u001b[0m\u001b[1;32m    223\u001b[0m \u001b[0;34m\u001b[0m\u001b[0m\n\u001b[1;32m    224\u001b[0m \u001b[0;32mdef\u001b[0m \u001b[0minstall_opener\u001b[0m\u001b[0;34m(\u001b[0m\u001b[0mopener\u001b[0m\u001b[0;34m)\u001b[0m\u001b[0;34m:\u001b[0m\u001b[0;34m\u001b[0m\u001b[0;34m\u001b[0m\u001b[0m\n",
      "\u001b[0;32m~/anaconda3/envs/spSeudoMap/lib/python3.7/urllib/request.py\u001b[0m in \u001b[0;36mopen\u001b[0;34m(self, fullurl, data, timeout)\u001b[0m\n\u001b[1;32m    529\u001b[0m         \u001b[0;32mfor\u001b[0m \u001b[0mprocessor\u001b[0m \u001b[0;32min\u001b[0m \u001b[0mself\u001b[0m\u001b[0;34m.\u001b[0m\u001b[0mprocess_response\u001b[0m\u001b[0;34m.\u001b[0m\u001b[0mget\u001b[0m\u001b[0;34m(\u001b[0m\u001b[0mprotocol\u001b[0m\u001b[0;34m,\u001b[0m \u001b[0;34m[\u001b[0m\u001b[0;34m]\u001b[0m\u001b[0;34m)\u001b[0m\u001b[0;34m:\u001b[0m\u001b[0;34m\u001b[0m\u001b[0;34m\u001b[0m\u001b[0m\n\u001b[1;32m    530\u001b[0m             \u001b[0mmeth\u001b[0m \u001b[0;34m=\u001b[0m \u001b[0mgetattr\u001b[0m\u001b[0;34m(\u001b[0m\u001b[0mprocessor\u001b[0m\u001b[0;34m,\u001b[0m \u001b[0mmeth_name\u001b[0m\u001b[0;34m)\u001b[0m\u001b[0;34m\u001b[0m\u001b[0;34m\u001b[0m\u001b[0m\n\u001b[0;32m--> 531\u001b[0;31m             \u001b[0mresponse\u001b[0m \u001b[0;34m=\u001b[0m \u001b[0mmeth\u001b[0m\u001b[0;34m(\u001b[0m\u001b[0mreq\u001b[0m\u001b[0;34m,\u001b[0m \u001b[0mresponse\u001b[0m\u001b[0;34m)\u001b[0m\u001b[0;34m\u001b[0m\u001b[0;34m\u001b[0m\u001b[0m\n\u001b[0m\u001b[1;32m    532\u001b[0m \u001b[0;34m\u001b[0m\u001b[0m\n\u001b[1;32m    533\u001b[0m         \u001b[0;32mreturn\u001b[0m \u001b[0mresponse\u001b[0m\u001b[0;34m\u001b[0m\u001b[0;34m\u001b[0m\u001b[0m\n",
      "\u001b[0;32m~/anaconda3/envs/spSeudoMap/lib/python3.7/urllib/request.py\u001b[0m in \u001b[0;36mhttp_response\u001b[0;34m(self, request, response)\u001b[0m\n\u001b[1;32m    639\u001b[0m         \u001b[0;32mif\u001b[0m \u001b[0;32mnot\u001b[0m \u001b[0;34m(\u001b[0m\u001b[0;36m200\u001b[0m \u001b[0;34m<=\u001b[0m \u001b[0mcode\u001b[0m \u001b[0;34m<\u001b[0m \u001b[0;36m300\u001b[0m\u001b[0;34m)\u001b[0m\u001b[0;34m:\u001b[0m\u001b[0;34m\u001b[0m\u001b[0;34m\u001b[0m\u001b[0m\n\u001b[1;32m    640\u001b[0m             response = self.parent.error(\n\u001b[0;32m--> 641\u001b[0;31m                 'http', request, response, code, msg, hdrs)\n\u001b[0m\u001b[1;32m    642\u001b[0m \u001b[0;34m\u001b[0m\u001b[0m\n\u001b[1;32m    643\u001b[0m         \u001b[0;32mreturn\u001b[0m \u001b[0mresponse\u001b[0m\u001b[0;34m\u001b[0m\u001b[0;34m\u001b[0m\u001b[0m\n",
      "\u001b[0;32m~/anaconda3/envs/spSeudoMap/lib/python3.7/urllib/request.py\u001b[0m in \u001b[0;36merror\u001b[0;34m(self, proto, *args)\u001b[0m\n\u001b[1;32m    567\u001b[0m         \u001b[0;32mif\u001b[0m \u001b[0mhttp_err\u001b[0m\u001b[0;34m:\u001b[0m\u001b[0;34m\u001b[0m\u001b[0;34m\u001b[0m\u001b[0m\n\u001b[1;32m    568\u001b[0m             \u001b[0margs\u001b[0m \u001b[0;34m=\u001b[0m \u001b[0;34m(\u001b[0m\u001b[0mdict\u001b[0m\u001b[0;34m,\u001b[0m \u001b[0;34m'default'\u001b[0m\u001b[0;34m,\u001b[0m \u001b[0;34m'http_error_default'\u001b[0m\u001b[0;34m)\u001b[0m \u001b[0;34m+\u001b[0m \u001b[0morig_args\u001b[0m\u001b[0;34m\u001b[0m\u001b[0;34m\u001b[0m\u001b[0m\n\u001b[0;32m--> 569\u001b[0;31m             \u001b[0;32mreturn\u001b[0m \u001b[0mself\u001b[0m\u001b[0;34m.\u001b[0m\u001b[0m_call_chain\u001b[0m\u001b[0;34m(\u001b[0m\u001b[0;34m*\u001b[0m\u001b[0margs\u001b[0m\u001b[0;34m)\u001b[0m\u001b[0;34m\u001b[0m\u001b[0;34m\u001b[0m\u001b[0m\n\u001b[0m\u001b[1;32m    570\u001b[0m \u001b[0;34m\u001b[0m\u001b[0m\n\u001b[1;32m    571\u001b[0m \u001b[0;31m# XXX probably also want an abstract factory that knows when it makes\u001b[0m\u001b[0;34m\u001b[0m\u001b[0;34m\u001b[0m\u001b[0;34m\u001b[0m\u001b[0m\n",
      "\u001b[0;32m~/anaconda3/envs/spSeudoMap/lib/python3.7/urllib/request.py\u001b[0m in \u001b[0;36m_call_chain\u001b[0;34m(self, chain, kind, meth_name, *args)\u001b[0m\n\u001b[1;32m    501\u001b[0m         \u001b[0;32mfor\u001b[0m \u001b[0mhandler\u001b[0m \u001b[0;32min\u001b[0m \u001b[0mhandlers\u001b[0m\u001b[0;34m:\u001b[0m\u001b[0;34m\u001b[0m\u001b[0;34m\u001b[0m\u001b[0m\n\u001b[1;32m    502\u001b[0m             \u001b[0mfunc\u001b[0m \u001b[0;34m=\u001b[0m \u001b[0mgetattr\u001b[0m\u001b[0;34m(\u001b[0m\u001b[0mhandler\u001b[0m\u001b[0;34m,\u001b[0m \u001b[0mmeth_name\u001b[0m\u001b[0;34m)\u001b[0m\u001b[0;34m\u001b[0m\u001b[0;34m\u001b[0m\u001b[0m\n\u001b[0;32m--> 503\u001b[0;31m             \u001b[0mresult\u001b[0m \u001b[0;34m=\u001b[0m \u001b[0mfunc\u001b[0m\u001b[0;34m(\u001b[0m\u001b[0;34m*\u001b[0m\u001b[0margs\u001b[0m\u001b[0;34m)\u001b[0m\u001b[0;34m\u001b[0m\u001b[0;34m\u001b[0m\u001b[0m\n\u001b[0m\u001b[1;32m    504\u001b[0m             \u001b[0;32mif\u001b[0m \u001b[0mresult\u001b[0m \u001b[0;32mis\u001b[0m \u001b[0;32mnot\u001b[0m \u001b[0;32mNone\u001b[0m\u001b[0;34m:\u001b[0m\u001b[0;34m\u001b[0m\u001b[0;34m\u001b[0m\u001b[0m\n\u001b[1;32m    505\u001b[0m                 \u001b[0;32mreturn\u001b[0m \u001b[0mresult\u001b[0m\u001b[0;34m\u001b[0m\u001b[0;34m\u001b[0m\u001b[0m\n",
      "\u001b[0;32m~/anaconda3/envs/spSeudoMap/lib/python3.7/urllib/request.py\u001b[0m in \u001b[0;36mhttp_error_default\u001b[0;34m(self, req, fp, code, msg, hdrs)\u001b[0m\n\u001b[1;32m    647\u001b[0m \u001b[0;32mclass\u001b[0m \u001b[0mHTTPDefaultErrorHandler\u001b[0m\u001b[0;34m(\u001b[0m\u001b[0mBaseHandler\u001b[0m\u001b[0;34m)\u001b[0m\u001b[0;34m:\u001b[0m\u001b[0;34m\u001b[0m\u001b[0;34m\u001b[0m\u001b[0m\n\u001b[1;32m    648\u001b[0m     \u001b[0;32mdef\u001b[0m \u001b[0mhttp_error_default\u001b[0m\u001b[0;34m(\u001b[0m\u001b[0mself\u001b[0m\u001b[0;34m,\u001b[0m \u001b[0mreq\u001b[0m\u001b[0;34m,\u001b[0m \u001b[0mfp\u001b[0m\u001b[0;34m,\u001b[0m \u001b[0mcode\u001b[0m\u001b[0;34m,\u001b[0m \u001b[0mmsg\u001b[0m\u001b[0;34m,\u001b[0m \u001b[0mhdrs\u001b[0m\u001b[0;34m)\u001b[0m\u001b[0;34m:\u001b[0m\u001b[0;34m\u001b[0m\u001b[0;34m\u001b[0m\u001b[0m\n\u001b[0;32m--> 649\u001b[0;31m         \u001b[0;32mraise\u001b[0m \u001b[0mHTTPError\u001b[0m\u001b[0;34m(\u001b[0m\u001b[0mreq\u001b[0m\u001b[0;34m.\u001b[0m\u001b[0mfull_url\u001b[0m\u001b[0;34m,\u001b[0m \u001b[0mcode\u001b[0m\u001b[0;34m,\u001b[0m \u001b[0mmsg\u001b[0m\u001b[0;34m,\u001b[0m \u001b[0mhdrs\u001b[0m\u001b[0;34m,\u001b[0m \u001b[0mfp\u001b[0m\u001b[0;34m)\u001b[0m\u001b[0;34m\u001b[0m\u001b[0;34m\u001b[0m\u001b[0m\n\u001b[0m\u001b[1;32m    650\u001b[0m \u001b[0;34m\u001b[0m\u001b[0m\n\u001b[1;32m    651\u001b[0m \u001b[0;32mclass\u001b[0m \u001b[0mHTTPRedirectHandler\u001b[0m\u001b[0;34m(\u001b[0m\u001b[0mBaseHandler\u001b[0m\u001b[0;34m)\u001b[0m\u001b[0;34m:\u001b[0m\u001b[0;34m\u001b[0m\u001b[0;34m\u001b[0m\u001b[0m\n",
      "\u001b[0;31mHTTPError\u001b[0m: HTTP Error 403: Forbidden"
     ]
    }
   ],
   "source": [
    "sc.set_figure_params(facecolor=\"white\", figsize=(8, 8))\n",
    "sc.settings.verbosity = 3\n",
    "\n",
    "adata_spatial = sc.datasets.visium_sge(\n",
    "    sample_id=\"V1_Adult_Mouse_Brain_Coronal_Section_1\"\n",
    ")"
   ]
  },
  {
   "cell_type": "markdown",
   "id": "f16814d5-70b4-4a0c-98e1-f2ceac4716e0",
   "metadata": {},
   "source": [
    "### Load single-cell data (Mouse coronal section: Sanger institute)"
   ]
  },
  {
   "cell_type": "markdown",
   "id": "864183ee-8cfa-4fc1-83e1-058ef4780293",
   "metadata": {},
   "source": [
    "##### Kleshchevnikov, V., Shmatko, A., Dann, E. et al. Cell2location maps fine-grained cell types in spatial transcriptomics. Nat Biotechnol (2022). https://doi.org/10.1038/s41587-021-01139-4"
   ]
  },
  {
   "cell_type": "markdown",
   "id": "f34ebd7d-754a-4db7-a705-d18b315642cd",
   "metadata": {
    "tags": []
   },
   "source": [
    "##### https://cell2location.readthedocs.io/en/latest/notebooks/cell2location_short_demo.html"
   ]
  },
  {
   "cell_type": "code",
   "execution_count": null,
   "id": "337646f9-e410-4156-b17d-273fc4d7d10a",
   "metadata": {},
   "outputs": [],
   "source": [
    "os.system('wget https://cell2location.cog.sanger.ac.uk/tutorial/mouse_brain_snrna/regression_model/RegressionGeneBackgroundCoverageTorch_65covariates_40532cells_12819genes/sc.h5ad')"
   ]
  },
  {
   "cell_type": "code",
   "execution_count": 3,
   "id": "208f62c2-b745-49a8-8109-00b1a4d57349",
   "metadata": {},
   "outputs": [],
   "source": [
    "adata_single = sc.read('sc.h5ad', cache=True)"
   ]
  },
  {
   "cell_type": "markdown",
   "id": "80cf8501-044d-47bd-8e28-775b3bf36143",
   "metadata": {},
   "source": [
    "#### Structure of the transcriptomes"
   ]
  },
  {
   "cell_type": "code",
   "execution_count": 4,
   "id": "c6f6d70f-2bf6-48c3-8a00-f41c15d6a3fa",
   "metadata": {},
   "outputs": [
    {
     "data": {
      "text/plain": [
       "5705STDY8058285_GGTAGAGTCAAATAGG-1    Astro_AMY\n",
       "5705STDY8058285_GACCCAGAGCAACCAG-1    Astro_AMY\n",
       "5705STDY8058282_TGATGGTCAAGAGTAT-1    Astro_AMY\n",
       "5705STDY8058282_GTTGCGGTCTTCGTGC-1    Astro_AMY\n",
       "5705STDY8058285_AGAAGTATCGCCGAGT-1    Astro_AMY\n",
       "                                        ...    \n",
       "5705STDY8058285_GTGACGCGTAAGGAGA-1        Unk_2\n",
       "5705STDY8058282_CGTAAGTTCAAACTGC-1        Unk_2\n",
       "5705STDY8058284_TAGGTACCAATACCTG-1        Unk_2\n",
       "5705STDY8058283_GGGACCTGTGCCGAAA-1        Unk_2\n",
       "5705STDY8058285_CTTCGGTCACGATTCA-1        Unk_2\n",
       "Name: annotation_1, Length: 40532, dtype: category\n",
       "Categories (59, object): ['Astro_AMY', 'Astro_AMY_CTX', 'Astro_CTX', 'Astro_HPC', ..., 'Oligo_1', 'Oligo_2', 'Unk_1', 'Unk_2']"
      ]
     },
     "execution_count": 4,
     "metadata": {},
     "output_type": "execute_result"
    }
   ],
   "source": [
    "adata_single.obs['annotation_1']"
   ]
  },
  {
   "cell_type": "code",
   "execution_count": 5,
   "id": "2cd52d4e-c8d2-4ad6-b339-8f03bfeb8768",
   "metadata": {},
   "outputs": [
    {
     "data": {
      "text/plain": [
       "{'Astro_AMY',\n",
       " 'Astro_AMY_CTX',\n",
       " 'Astro_CTX',\n",
       " 'Astro_HPC',\n",
       " 'Astro_HYPO',\n",
       " 'Astro_STR',\n",
       " 'Astro_THAL_hab',\n",
       " 'Astro_THAL_lat',\n",
       " 'Astro_THAL_med',\n",
       " 'Astro_WM',\n",
       " 'Endo',\n",
       " 'Ext_Amy_1',\n",
       " 'Ext_Amy_2',\n",
       " 'Ext_ClauPyr',\n",
       " 'Ext_Hpc_CA1',\n",
       " 'Ext_Hpc_CA2',\n",
       " 'Ext_Hpc_CA3',\n",
       " 'Ext_Hpc_DG1',\n",
       " 'Ext_Hpc_DG2',\n",
       " 'Ext_L23',\n",
       " 'Ext_L25',\n",
       " 'Ext_L56',\n",
       " 'Ext_L5_1',\n",
       " 'Ext_L5_2',\n",
       " 'Ext_L5_3',\n",
       " 'Ext_L6',\n",
       " 'Ext_L6B',\n",
       " 'Ext_Med',\n",
       " 'Ext_Pir',\n",
       " 'Ext_Thal_1',\n",
       " 'Ext_Thal_2',\n",
       " 'Ext_Unk_1',\n",
       " 'Ext_Unk_2',\n",
       " 'Ext_Unk_3',\n",
       " 'Inh_1',\n",
       " 'Inh_2',\n",
       " 'Inh_3',\n",
       " 'Inh_4',\n",
       " 'Inh_5',\n",
       " 'Inh_6',\n",
       " 'Inh_Lamp5',\n",
       " 'Inh_Meis2_1',\n",
       " 'Inh_Meis2_2',\n",
       " 'Inh_Meis2_3',\n",
       " 'Inh_Meis2_4',\n",
       " 'Inh_Pvalb',\n",
       " 'Inh_Sst',\n",
       " 'Inh_Vip',\n",
       " 'LowQ_1',\n",
       " 'LowQ_2',\n",
       " 'Micro',\n",
       " 'Nb_1',\n",
       " 'Nb_2',\n",
       " 'OPC_1',\n",
       " 'OPC_2',\n",
       " 'Oligo_1',\n",
       " 'Oligo_2',\n",
       " 'Unk_1',\n",
       " 'Unk_2'}"
      ]
     },
     "execution_count": 5,
     "metadata": {},
     "output_type": "execute_result"
    }
   ],
   "source": [
    "# List of the cell types\n",
    "set(adata_single.obs['annotation_1'])"
   ]
  },
  {
   "cell_type": "code",
   "execution_count": 6,
   "id": "2c5bef9b-29cb-41ec-9f02-cc0331298848",
   "metadata": {},
   "outputs": [
    {
     "data": {
      "text/plain": [
       "((2903, 32285), (40532, 12819))"
      ]
     },
     "execution_count": 6,
     "metadata": {},
     "output_type": "execute_result"
    }
   ],
   "source": [
    "adata_spatial.shape, adata_single.shape"
   ]
  },
  {
   "cell_type": "markdown",
   "id": "195f39fb-4885-4b0c-ac35-2a0cd271e25e",
   "metadata": {
    "tags": []
   },
   "source": [
    "### Simulation of the subpopulation single-cell dataset: select the excitatory neuron types"
   ]
  },
  {
   "cell_type": "code",
   "execution_count": 7,
   "id": "98e485cf-e010-4a60-ad52-02ca5cfe4853",
   "metadata": {},
   "outputs": [],
   "source": [
    "adata_sc_sub = adata_single[adata_single.obs['annotation_1'].str.contains('Ext_')].copy()"
   ]
  },
  {
   "cell_type": "code",
   "execution_count": 8,
   "id": "4e694c98-7fe7-473a-a97d-9239e3629da4",
   "metadata": {},
   "outputs": [
    {
     "data": {
      "text/plain": [
       "{'Ext_Amy_1',\n",
       " 'Ext_Amy_2',\n",
       " 'Ext_ClauPyr',\n",
       " 'Ext_Hpc_CA1',\n",
       " 'Ext_Hpc_CA2',\n",
       " 'Ext_Hpc_CA3',\n",
       " 'Ext_Hpc_DG1',\n",
       " 'Ext_Hpc_DG2',\n",
       " 'Ext_L23',\n",
       " 'Ext_L25',\n",
       " 'Ext_L56',\n",
       " 'Ext_L5_1',\n",
       " 'Ext_L5_2',\n",
       " 'Ext_L5_3',\n",
       " 'Ext_L6',\n",
       " 'Ext_L6B',\n",
       " 'Ext_Med',\n",
       " 'Ext_Pir',\n",
       " 'Ext_Thal_1',\n",
       " 'Ext_Thal_2',\n",
       " 'Ext_Unk_1',\n",
       " 'Ext_Unk_2',\n",
       " 'Ext_Unk_3'}"
      ]
     },
     "execution_count": 8,
     "metadata": {},
     "output_type": "execute_result"
    }
   ],
   "source": [
    "# List of the cell types\n",
    "set(adata_sc_sub.obs['annotation_1'])"
   ]
  },
  {
   "cell_type": "markdown",
   "id": "52ae60dc-11b1-423c-9242-cc938e8daf45",
   "metadata": {},
   "source": [
    "### Preparation of the parameters for the training"
   ]
  },
  {
   "cell_type": "code",
   "execution_count": 9,
   "id": "3151d107-d8c8-47ef-a453-4cd58b7fbc16",
   "metadata": {},
   "outputs": [],
   "source": [
    "# column name for single-cell annotation data in metadata(.obs)\n",
    "celltype = 'annotation_1'\n",
    "# number of selected marker genes in each cell-type\n",
    "num_markers=20"
   ]
  },
  {
   "cell_type": "code",
   "execution_count": 10,
   "id": "bce8a085-6073-462c-9964-dab06a482ca8",
   "metadata": {},
   "outputs": [
    {
     "data": {
      "text/plain": [
       "14515"
      ]
     },
     "execution_count": 10,
     "metadata": {},
     "output_type": "execute_result"
    }
   ],
   "source": [
    "# Total number of cell mixture (modified pseudospots) to generate\n",
    "npseudo = adata_spatial.shape[0]*5\n",
    "npseudo"
   ]
  },
  {
   "cell_type": "code",
   "execution_count": 11,
   "id": "d009bdf1-97d8-45c9-9ee8-4567ad7d05b1",
   "metadata": {},
   "outputs": [],
   "source": [
    "# ratio of number of single-cell markers to virtual pseudotype markers\n",
    "mk_ratio = 2"
   ]
  },
  {
   "cell_type": "code",
   "execution_count": 12,
   "id": "58c4fa9e-3b3c-4861-92b0-e0dde5af9eeb",
   "metadata": {},
   "outputs": [
    {
     "data": {
      "text/plain": [
       "0.6716421592815554"
      ]
     },
     "execution_count": 12,
     "metadata": {},
     "output_type": "execute_result"
    }
   ],
   "source": [
    "# Average of presumed fraction of the pseudotype (cell types exclusively present in spatial data) across all spatial spots\n",
    "# -> Presumed average non-excitatory neuron fraction from simulation dataset\n",
    "pseudo_frac_m = 1 - ((adata_sc_sub.shape[0])/(adata_single.shape[0]))\n",
    "pseudo_frac_m"
   ]
  },
  {
   "cell_type": "code",
   "execution_count": 13,
   "id": "8443383d-9d5a-48ce-a49e-65ca8b852bc9",
   "metadata": {},
   "outputs": [],
   "source": [
    "# pseudo_frac_std: standard deviation of the distribution of presumed pseudotype fraction across all spatial spots (default = 0.1)\n",
    "pseudo_frac_std = 0.1"
   ]
  },
  {
   "cell_type": "code",
   "execution_count": 14,
   "id": "60f11cc4-c0a8-47c0-81c0-dec773a46dc2",
   "metadata": {},
   "outputs": [],
   "source": [
    "# Number of cells sampled from single-cell data when making a pseudospot\n",
    "nmix = 10"
   ]
  },
  {
   "cell_type": "markdown",
   "id": "0bee5deb-c5f2-45f4-8bbd-9666caafd33f",
   "metadata": {},
   "source": [
    "### Run spSEudoMape\n",
    "#### cell type mapping of spatial transcriptomics using unmatched single-cell RNA-seq data"
   ]
  },
  {
   "cell_type": "code",
   "execution_count": 3,
   "id": "b412511a-66d7-45c3-9af0-fabb57ae7637",
   "metadata": {},
   "outputs": [
    {
     "ename": "NameError",
     "evalue": "name 'adata_spatial' is not defined",
     "output_type": "error",
     "traceback": [
      "\u001b[0;31m---------------------------------------------------------------------------\u001b[0m",
      "\u001b[0;31mNameError\u001b[0m                                 Traceback (most recent call last)",
      "\u001b[0;32m/tmp/ipykernel_110718/2618073157.py\u001b[0m in \u001b[0;36m<module>\u001b[0;34m\u001b[0m\n\u001b[1;32m      1\u001b[0m \u001b[0;32mfrom\u001b[0m \u001b[0mpred_cellf_spSeudoMap\u001b[0m \u001b[0;32mimport\u001b[0m \u001b[0mpred_cellf_spSeudoMap\u001b[0m\u001b[0;34m\u001b[0m\u001b[0;34m\u001b[0m\u001b[0m\n\u001b[0;32m----> 2\u001b[0;31m adata_spatial_cellf = pred_cellf_spSeudoMap(adata_sp=adata_spatial, adata_sc=adata_sc_sub, count_from_raw=False, \n\u001b[0m\u001b[1;32m      3\u001b[0m                                             \u001b[0mgpu\u001b[0m\u001b[0;34m=\u001b[0m\u001b[0;32mTrue\u001b[0m\u001b[0;34m,\u001b[0m \u001b[0mcelltype\u001b[0m\u001b[0;34m=\u001b[0m\u001b[0mcelltype\u001b[0m\u001b[0;34m,\u001b[0m \u001b[0mnum_markers\u001b[0m\u001b[0;34m=\u001b[0m\u001b[0mnum_markers\u001b[0m\u001b[0;34m,\u001b[0m\u001b[0;34m\u001b[0m\u001b[0;34m\u001b[0m\u001b[0m\n\u001b[1;32m      4\u001b[0m                                             \u001b[0mmixture_mode\u001b[0m\u001b[0;34m=\u001b[0m\u001b[0;34m'pseudotype'\u001b[0m\u001b[0;34m,\u001b[0m \u001b[0mseed_num\u001b[0m\u001b[0;34m=\u001b[0m\u001b[0;36m0\u001b[0m\u001b[0;34m,\u001b[0m\u001b[0;34m\u001b[0m\u001b[0;34m\u001b[0m\u001b[0m\n\u001b[1;32m      5\u001b[0m                                             \u001b[0mmk_ratio_fix\u001b[0m\u001b[0;34m=\u001b[0m\u001b[0;32mTrue\u001b[0m\u001b[0;34m,\u001b[0m \u001b[0mmk_ratio\u001b[0m\u001b[0;34m=\u001b[0m\u001b[0mmk_ratio\u001b[0m\u001b[0;34m,\u001b[0m\u001b[0;34m\u001b[0m\u001b[0;34m\u001b[0m\u001b[0m\n",
      "\u001b[0;31mNameError\u001b[0m: name 'adata_spatial' is not defined"
     ]
    }
   ],
   "source": [
    "from pred_cellf_spSeudoMap import pred_cellf_spSeudoMap\n",
    "adata_spatial_cellf = pred_cellf_spSeudoMap(adata_sp=adata_spatial, adata_sc=adata_sc_sub, count_from_raw=False, \n",
    "                                            gpu=True, celltype=celltype, num_markers=num_markers,\n",
    "                                            mixture_mode='pseudotype', seed_num=0, \n",
    "                                            mk_ratio_fix=True, mk_ratio=mk_ratio,\n",
    "                                            pseudo_frac_m=pseudo_frac_m, pseudo_frac_std=pseudo_frac_std,\n",
    "                                            nmix=nmix, npseudo=npseudo, alpha=0.6, alpha_lr=5, emb_dim=64, \n",
    "                                            batch_size=512, n_iterations=3000, init_train_epoch=10, \n",
    "                                            outdir='./output', return_format='anndata')"
   ]
  },
  {
   "cell_type": "markdown",
   "id": "af544e0b-0c19-4d62-813d-c21c0ea1b556",
   "metadata": {},
   "source": [
    "### Save AnnData with predicted cell fraction data"
   ]
  },
  {
   "cell_type": "code",
   "execution_count": null,
   "id": "b32a1125-f387-42a6-a5ce-ef16b2060ae4",
   "metadata": {},
   "outputs": [],
   "source": [
    "outdir = '.'\n",
    "adata_spatial_cellf.write_h5ad(os.path.join(outdir,'spatial_cellf.h5'))"
   ]
  }
 ],
 "metadata": {
  "kernelspec": {
   "display_name": "spSeudoMap",
   "language": "python",
   "name": "spseudomap"
  },
  "language_info": {
   "codemirror_mode": {
    "name": "ipython",
    "version": 3
   },
   "file_extension": ".py",
   "mimetype": "text/x-python",
   "name": "python",
   "nbconvert_exporter": "python",
   "pygments_lexer": "ipython3",
   "version": "3.7.12"
  }
 },
 "nbformat": 4,
 "nbformat_minor": 5
}
